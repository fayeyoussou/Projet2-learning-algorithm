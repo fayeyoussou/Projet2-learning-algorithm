{
 "cells": [
  {
   "cell_type": "markdown",
   "metadata": {
    "id": "rh4loEvXqJu3"
   },
   "source": [
    "\n",
    "# Projet: Detection de Malware basée sur le Machine Learning\n",
    "\n",
    " ## Pipeline\n",
    "\n",
    "Pipeline Tpour l'Analyse et le Déploiement de Modèles de classification de malware basé sur le machine learning.\n",
    "\n",
    "**1. Importation du Dataset:**\n",
    "\n",
    "\n",
    "Prétraitement des Données:\n",
    "\n",
    "**2. Séparer le dataset en features (caractéristiques) et label (étiquettes).**\n",
    "\n",
    "**3. Division des Données:**\n",
    "\n",
    " Diviser le dataset en ensembles distincts pour l'entraînement (70%) et les tests (30%).\n",
    "\n",
    "**4 . Choix des Algorithmes:**\n",
    "\n",
    " Sélectionner 4 algorithmes de Machine Learning pertinents en fonction du problème.\n",
    "\n",
    "**5. Entraînement des Modèles:**\n",
    "\n",
    "Entrainer chaque modèle sur l'ensemble d'entraînement.\n",
    "\n",
    "**6. Tester la performance de chaque modèle**\n",
    "\n",
    "**7. Évaluer les Modèles:** en utilisant des métriques d'évaluation appropriées (précision, rappel, F1-score, etc.).\n",
    "\n",
    "**8. Sélection du Meilleur Modèle:**\n",
    "\n",
    "**9. Identifier et enregistrer le modèle présentant la meilleure précision.**\n",
    "\n",
    "**10.  Déploiement du Modèle:**\n",
    "  Mettre en œuvre le déploiement du modèle en utilisant des frameworks tels que Django, Flask, Streamlit, ou des plates-formes cloud comme Heroku.\n",
    "\n",
    "\n",
    "\n",
    "\n",
    "\n",
    "\n",
    "\n",
    "\n",
    "\n",
    "\n"
   ]
  },
  {
   "cell_type": "code",
   "execution_count": null,
   "metadata": {
    "id": "oGMYluyACeoa"
   },
   "outputs": [],
   "source": []
  },
  {
   "cell_type": "markdown",
   "metadata": {
    "id": "EyskVKdpyYrZ"
   },
   "source": [
    "**Présentation du jeu de données :**\n",
    "À partir de 137 444 exécutables, nous avons extrait huit caractéristiques pour chaque exécutable et attribué une étiquette correspondante.\n",
    "\n",
    "**Liste des caractéristiques :**\n",
    "\n",
    "\n",
    "* ajorLinkerVersion\n",
    "\n",
    "* MajorImageVersion\n",
    "\n",
    "* MajorOperatingSystemVersion\n",
    "\n",
    "* SizeOfStackReserve\n",
    "\n",
    "* NumberOfSections\n",
    "\n",
    "* ResourceSize\n",
    "\n",
    "* legitimate\n",
    "\n",
    "**Definition des features:**\n",
    "\n",
    "**AddressOfEntryPoint:** L'adresse dans le fichier exécutable où l'exécution du programme doit commencer.\n",
    "\n",
    "**MajorLinkerVersion:**  La version majeure du programme utilisé pour lier le fichier exécutable.\n",
    "\n",
    "**MajorImageVersion:** La version majeure de l'image du fichier exécutable.\n",
    "\n",
    "**MajorOperatingSystemVersion:** La version majeure du système d'exploitation sous lequel le fichier exécutable est destiné à s'exécuter.\n",
    "\n",
    "**DllCharacteristics:**  Les caractéristiques spécifiques de la DLL (Dynamic Link Library) associée au fichier exécutable.\n",
    "\n",
    " **SizeOfStackReserve:** La taille de la mémoire réservée pour la pile d'exécution du programme.\n",
    "\n",
    "**NumberOfSections:** Le nombre de sections dans le fichier exécutable.\n",
    "\n",
    "**ResourceSize:**  La taille des ressources (comme les images, les icônes, etc.) incluses dans le fichier exécutable.\n",
    "\n",
    "**label= legitimate**\n",
    "\n",
    "legitimite=1 <===> malware\n",
    "legitimate=0 <===> benigne (non malware)\n",
    "\n"
   ]
  },
  {
   "cell_type": "markdown",
   "metadata": {
    "id": "BX6bnV5n9SaS"
   },
   "source": [
    "Lien du dataset:\n",
    "https://drive.google.com/drive/folders/1E0RpyEh0g42jFFsNVNm9QzAorSo4QtWq?usp=drive_link"
   ]
  },
  {
   "cell_type": "markdown",
   "metadata": {
    "id": "nZVdWUxzyCS7"
   },
   "source": [
    "Outils: Scikit learn pour entrainer les modeles,pandas pour importer le dataset\n"
   ]
  },
  {
   "cell_type": "code",
   "execution_count": null,
   "metadata": {
    "id": "EJDT5Yx4x0Np"
   },
   "outputs": [],
   "source": [
    "import pandas as pd\n",
    "from sklearn.model_selection import train_test_split\n",
    "from sklearn.preprocessing import StandardScaler\n",
    "from sklearn.linear_model import LogisticRegression\n",
    "from sklearn.metrics import accuracy_score, classification_report"
   ]
  },
  {
   "cell_type": "markdown",
   "metadata": {
    "id": "9r7dbMKu-08T"
   },
   "source": [
    "**1. Importation du Dataset:**"
   ]
  },
  {
   "cell_type": "code",
   "execution_count": null,
   "metadata": {
    "id": "om7lcMeS_93V",
    "outputId": "6e16a691-b9f4-4d87-ad42-f04d604b8831"
   },
   "outputs": [],
   "source": [
    "df = pd.read_csv('your_data.csv')  # replace 'your_data.csv' with your actual file name"
   ]
  },
  {
   "cell_type": "code",
   "execution_count": null,
   "metadata": {
    "id": "3YAx-2at-7Rl"
   },
   "outputs": [],
   "source": [
    "features = df.drop('legitimate', axis=1)\n",
    "targets = df['legititative']\n"
   ]
  },
  {
   "cell_type": "markdown",
   "metadata": {
    "id": "vF0bP3ho-9Wy"
   },
   "source": [
    "**2. Séparer le dataset en features (caractéristiques) et label (étiquettes).**"
   ]
  },
  {
   "cell_type": "code",
   "execution_count": null,
   "metadata": {
    "id": "MgaZJVAltyV0",
    "outputId": "5024ac2e-7028-44b7-bc45-4c5b3387bef4"
   },
   "outputs": [],
   "source": [
    "X_train, X_test, y_train, y_test = train_test_split(features, targets, test_size=0.2, random_state=42)"
   ]
  },
  {
   "cell_type": "markdown",
   "metadata": {
    "id": "d96zcx9mACI6"
   },
   "source": [
    "**3. Division des Données en features et label:**"
   ]
  },
  {
   "cell_type": "code",
   "execution_count": null,
   "metadata": {
    "id": "s9rFdipCACdx",
    "outputId": "383abbc1-f516-4dcb-8fa9-f65c95c2317f"
   },
   "outputs": [],
   "source": [
    "sc = StandardScaler()\n"
   ]
  },
  {
   "cell_type": "markdown",
   "metadata": {
    "id": "3gh02wR2ACuL"
   },
   "source": [
    "**3. Division des Données en données en train et test:**"
   ]
  },
  {
   "cell_type": "code",
   "execution_count": null,
   "metadata": {
    "id": "EW2SM4dYAC9w",
    "outputId": "e7643296-7a0c-470e-a31f-72d0bcaabd51"
   },
   "outputs": [],
   "source": [
    "X_train = sc.fit_transform(X_train)\n",
    "X_test = sc.transform(X_test)"
   ]
  },
  {
   "cell_type": "markdown",
   "metadata": {
    "id": "MjgF3gXWADLN"
   },
   "source": [
    "\n",
    "**4 . Choix des Algorithmes:**\n",
    "\n",
    " Sélectionner 4 algorithmes de Machine Learning pertinents en fonction du problème.\n",
    "\n"
   ]
  },
  {
   "cell_type": "code",
   "execution_count": null,
   "metadata": {
    "id": "wzt4yVJ4ADZ5",
    "outputId": "1aa5a4db-01e1-459c-9dad-49ef3f2ac123"
   },
   "outputs": [],
   "source": [
    "model = LogisticRegression()\n"
   ]
  },
  {
   "cell_type": "code",
   "execution_count": null,
   "metadata": {
    "id": "ctcPPbBz7qf-",
    "outputId": "ed93d7c2-93fd-4507-e97b-ea1c27fd0497"
   },
   "outputs": [],
   "source": []
  },
  {
   "cell_type": "code",
   "execution_count": null,
   "metadata": {
    "id": "7qNW4Koq7qf-",
    "outputId": "dfdce9c1-4845-4c00-9a90-f19e4cd9e503"
   },
   "outputs": [],
   "source": []
  },
  {
   "cell_type": "code",
   "execution_count": null,
   "metadata": {
    "id": "WAHi9xIx7qf-",
    "outputId": "b8962a42-624b-4bab-b843-6bbde4d7f285"
   },
   "outputs": [],
   "source": []
  },
  {
   "cell_type": "code",
   "execution_count": null,
   "metadata": {
    "id": "dUfK5OyCAspH"
   },
   "outputs": [],
   "source": []
  },
  {
   "cell_type": "markdown",
   "metadata": {
    "id": "4l-iZe9-Atep"
   },
   "source": [
    "**5. Entraînement de chaque Modèle choisi:**\n",
    "\n",
    "\n",
    "\n",
    "\n",
    "\n"
   ]
  },
  {
   "cell_type": "code",
   "execution_count": null,
   "metadata": {
    "id": "TzH1ddIyA-uI"
   },
   "outputs": [],
   "source": [
    "model.fit(X_train, y_train)\n",
    "\n",
    "\n"
   ]
  },
  {
   "cell_type": "code",
   "execution_count": null,
   "metadata": {
    "id": "3on9UL6R7qf_",
    "outputId": "7cb9e294-29e0-4af2-e96a-d580053699f3"
   },
   "outputs": [],
   "source": []
  },
  {
   "cell_type": "code",
   "execution_count": null,
   "metadata": {
    "id": "bs_7xd8C7qf_",
    "outputId": "2f80ae03-d22e-4727-dc2f-182ec8711759"
   },
   "outputs": [],
   "source": []
  },
  {
   "cell_type": "code",
   "execution_count": null,
   "metadata": {
    "id": "QzUlgqqT7qgA",
    "outputId": "b45be00c-1dcd-423d-d03c-bbcda590c7f5"
   },
   "outputs": [],
   "source": []
  },
  {
   "cell_type": "markdown",
   "metadata": {
    "id": "ZQFMeMNSA_MG"
   },
   "source": [
    "\n",
    "\n",
    "**6. Tester la performance de chaque modèle**\n",
    "\n"
   ]
  },
  {
   "cell_type": "code",
   "execution_count": 1,
   "metadata": {
    "ExecuteTime": {
     "end_time": "2024-03-05T10:03:50.078632Z",
     "start_time": "2024-03-05T10:03:49.933027Z"
    },
    "id": "KlmkrjOJBrLy",
    "outputId": "c71568a6-0dd1-43ff-fa88-39af0d62e067"
   },
   "outputs": [
    {
     "ename": "NameError",
     "evalue": "name 'model' is not defined",
     "output_type": "error",
     "traceback": [
      "\u001b[0;31m---------------------------------------------------------------------------\u001b[0m",
      "\u001b[0;31mNameError\u001b[0m                                 Traceback (most recent call last)",
      "Cell \u001b[0;32mIn[1], line 1\u001b[0m\n\u001b[0;32m----> 1\u001b[0m y_pred \u001b[38;5;241m=\u001b[39m model\u001b[38;5;241m.\u001b[39mpredict(X_test)\n\u001b[1;32m      2\u001b[0m \u001b[38;5;28mprint\u001b[39m(\u001b[38;5;124m\"\u001b[39m\u001b[38;5;124mAccuracy:\u001b[39m\u001b[38;5;124m\"\u001b[39m, accuracy_score(y_test, y_pred))\n",
      "\u001b[0;31mNameError\u001b[0m: name 'model' is not defined"
     ]
    }
   ],
   "source": [
    "y_pred = model.predict(X_test)\n",
    "print(\"Accuracy:\", accuracy_score(y_test, y_pred))\n",
    "\n"
   ]
  },
  {
   "cell_type": "code",
   "execution_count": null,
   "metadata": {
    "id": "H1EKxmkZ7qgA",
    "outputId": "b3fa6e1b-9b15-4502-bf47-4cdfeb514035"
   },
   "outputs": [],
   "source": []
  },
  {
   "cell_type": "code",
   "execution_count": null,
   "metadata": {
    "id": "bUQBCLQp7qgB",
    "outputId": "833ec1c8-e77e-4ccd-cfcf-bd9fec5ad756"
   },
   "outputs": [],
   "source": []
  },
  {
   "cell_type": "code",
   "execution_count": null,
   "metadata": {
    "id": "8Y_ozpXm7qgB",
    "outputId": "8de69b57-9da2-47e2-a822-524b313d8801"
   },
   "outputs": [],
   "source": []
  },
  {
   "cell_type": "markdown",
   "metadata": {
    "id": "QQQoDIsxBr7O"
   },
   "source": [
    "**7. Évaluer les Modèles:** en utilisant des métriques d'évaluation appropriées (précision, rappel, F1-score, etc.).\n"
   ]
  },
  {
   "cell_type": "code",
   "execution_count": null,
   "metadata": {
    "id": "mmnCGAzSBttB",
    "outputId": "7feaac8d-1cb8-4f12-9e06-413d1d52aac5"
   },
   "outputs": [],
   "source": []
  },
  {
   "cell_type": "code",
   "execution_count": null,
   "metadata": {
    "id": "TbJ_CfjV7qgC",
    "outputId": "a4ea3f48-ed43-4456-eed6-eac4a54a039a"
   },
   "outputs": [],
   "source": []
  },
  {
   "cell_type": "code",
   "execution_count": null,
   "metadata": {
    "id": "BN33M76B7qgC",
    "outputId": "11a29df0-e3c3-421a-e747-27509b117734"
   },
   "outputs": [],
   "source": []
  },
  {
   "cell_type": "code",
   "execution_count": null,
   "metadata": {
    "id": "xkMa7uV97qgC",
    "outputId": "6030b855-b573-4657-d17c-7dacf00ac63a"
   },
   "outputs": [],
   "source": []
  },
  {
   "cell_type": "code",
   "execution_count": null,
   "metadata": {
    "id": "bHm_jaIK7qgC"
   },
   "outputs": [],
   "source": []
  },
  {
   "cell_type": "markdown",
   "metadata": {
    "id": "u6njbKT8Bt8Q"
   },
   "source": [
    "\n",
    "**8. Sélection du Meilleur Modèle:**\n"
   ]
  },
  {
   "cell_type": "code",
   "execution_count": null,
   "metadata": {
    "id": "AWWxnX4dBvw5"
   },
   "outputs": [],
   "source": []
  },
  {
   "cell_type": "markdown",
   "metadata": {
    "id": "NCBcAcKCBwOk"
   },
   "source": [
    "\n",
    "**9. Identifier et enregistrer le modèle présentant la meilleure précision.**\n",
    "\n"
   ]
  },
  {
   "cell_type": "code",
   "execution_count": null,
   "metadata": {
    "id": "nNn3GdrhBx6i",
    "outputId": "50543d92-5169-44c5-d01b-44905f859a40"
   },
   "outputs": [],
   "source": []
  },
  {
   "cell_type": "markdown",
   "metadata": {
    "id": "RZhLukPvC6B8"
   },
   "source": []
  },
  {
   "cell_type": "code",
   "execution_count": null,
   "metadata": {
    "id": "jwQ0U_ZjCjqq"
   },
   "outputs": [],
   "source": []
  },
  {
   "cell_type": "markdown",
   "metadata": {
    "id": "hExQniJcByV9"
   },
   "source": [
    "**10.  Déploiement du Modèle:**"
   ]
  },
  {
   "cell_type": "markdown",
   "metadata": {
    "id": "SCGgu3ckADn_"
   },
   "source": [
    "#               **FIN**"
   ]
  },
  {
   "cell_type": "markdown",
   "metadata": {
    "id": "SUYTtgCMClvw"
   },
   "source": [
    "NB: Projet a faire par groupe de 3.\n",
    "\n",
    "A rendre au plutard Mercredi  24 Janvier 2023."
   ]
  }
 ],
 "metadata": {
  "colab": {
   "provenance": []
  },
  "kernelspec": {
   "display_name": "Python 3 (ipykernel)",
   "language": "python",
   "name": "python3"
  },
  "language_info": {
   "codemirror_mode": {
    "name": "ipython",
    "version": 3
   },
   "file_extension": ".py",
   "mimetype": "text/x-python",
   "name": "python",
   "nbconvert_exporter": "python",
   "pygments_lexer": "ipython3",
   "version": "3.11.5"
  }
 },
 "nbformat": 4,
 "nbformat_minor": 1
}
